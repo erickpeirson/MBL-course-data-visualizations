{
 "metadata": {
  "name": "2014-01-20 MBL Course Data"
 },
 "nbformat": 3,
 "nbformat_minor": 0,
 "worksheets": [
  {
   "cells": [
    {
     "cell_type": "code",
     "collapsed": false,
     "input": [
      "import csv\n",
      "import re\n",
      "import string\n",
      "from unidecode import unidecode\n",
      "from geopy import geocoders"
     ],
     "language": "python",
     "metadata": {},
     "outputs": [],
     "prompt_number": 1
    },
    {
     "cell_type": "code",
     "collapsed": false,
     "input": [
      "import urllib2\n",
      "import xml.etree.ElementTree as ET"
     ],
     "language": "python",
     "metadata": {},
     "outputs": [],
     "prompt_number": 2
    },
    {
     "cell_type": "code",
     "collapsed": false,
     "input": [
      "import numpy as np"
     ],
     "language": "python",
     "metadata": {},
     "outputs": [],
     "prompt_number": 3
    },
    {
     "cell_type": "markdown",
     "metadata": {},
     "source": [
      "## Parse course attendance data"
     ]
    },
    {
     "cell_type": "code",
     "collapsed": false,
     "input": [
      "with open(\"./data/mblhistory_people_authority_list.csv\", \"rb\") as csvfile:\n",
      "    data_list = [ row for row in csv.reader(csvfile.read().splitlines()) ]"
     ],
     "language": "python",
     "metadata": {},
     "outputs": [],
     "prompt_number": 6
    },
    {
     "cell_type": "code",
     "collapsed": false,
     "input": [
      "fields = data_list[0]\n",
      "data = []\n",
      "for i in range(1, len(data_list)):\n",
      "    datum = {}\n",
      "    for x in range(0, len(fields)):\n",
      "        if x == 3:  \n",
      "            value = []\n",
      "            courses = data_list[i][x].split(\"; \")\n",
      "            for course in courses:\n",
      "                course_year = re.search(r\"[0-9]{4}\", course).group(0).strip()\n",
      "                d = re.split(r\" [0-9]{4} \", course)\n",
      "                course_name = d[0]\n",
      "                try:\n",
      "                    role = d[1][1:-1]\n",
      "                except:\n",
      "                    role = \"unknown\"\n",
      "                \n",
      "                value.append(   {\n",
      "                                    'name': unidecode(course_name.decode('mac_roman')),\n",
      "                                    'year': int(course_year),\n",
      "                                    'role': unidecode(role.decode('mac_roman'))\n",
      "                                })\n",
      "        else:\n",
      "            value = unidecode(data_list[i][x].decode('mac_roman'))\n",
      "\n",
      "        datum[fields[x]] = value\n",
      "    data.append(datum)"
     ],
     "language": "python",
     "metadata": {},
     "outputs": [],
     "prompt_number": 7
    },
    {
     "cell_type": "code",
     "collapsed": false,
     "input": [
      "data[0]"
     ],
     "language": "python",
     "metadata": {},
     "outputs": [
      {
       "output_type": "pyout",
       "prompt_number": 8,
       "text": [
        "{'Local ID': 'mblhistory.person.000001',\n",
        " 'Locally Authorized UUID': 'b33d6255-45a8-44ce-89d1-434134634386',\n",
        " 'Notes: Affiliations': 'Clark University (Docent in Zoology) 1890',\n",
        " 'Notes: Courses': [{'name': 'Coelenterates',\n",
        "   'role': 'Instructor',\n",
        "   'year': 1890}],\n",
        " 'Notes: Other': '',\n",
        " 'Person Name': 'McMurrich, J. Playfair'}"
       ]
      }
     ],
     "prompt_number": 8
    },
    {
     "cell_type": "markdown",
     "metadata": {},
     "source": [
      "## Parse institutional affiliations data"
     ]
    },
    {
     "cell_type": "code",
     "collapsed": false,
     "input": [
      "with open(\"./data/affiliations_data.csv\", \"rb\") as csvfile:\n",
      "    data_list = [ row for row in csv.reader(csvfile.read().splitlines()) ]"
     ],
     "language": "python",
     "metadata": {},
     "outputs": [],
     "prompt_number": 9
    },
    {
     "cell_type": "code",
     "collapsed": false,
     "input": [
      "fields = data_list[0]\n",
      "affiliations_data = []"
     ],
     "language": "python",
     "metadata": {},
     "outputs": [],
     "prompt_number": 10
    },
    {
     "cell_type": "code",
     "collapsed": false,
     "input": [
      "for i in range(1, len(data_list)):\n",
      "    datum = {}\n",
      "    for x in range(0, len(fields)):\n",
      "        value = unidecode(data_list[i][x].decode('mac_roman'))#.decode('string_escape')\n",
      "        field = fields[x]\n",
      "        if field == 'Year':\n",
      "            value = int(value)\n",
      "        if field == 'Institute':\n",
      "            value = value.split(\"/\")\n",
      "            for v in xrange(len(value)):\n",
      "                value[v] = value[v].strip()\n",
      "                sp = value[v].split(',')\n",
      "                if len(sp) > 1:\n",
      "                    value[v] = sp[-1].strip()\n",
      "        datum[field] = value\n",
      "    affiliations_data.append(datum)"
     ],
     "language": "python",
     "metadata": {},
     "outputs": [],
     "prompt_number": 11
    },
    {
     "cell_type": "code",
     "collapsed": false,
     "input": [
      "affiliations_data[603]"
     ],
     "language": "python",
     "metadata": {},
     "outputs": [
      {
       "output_type": "pyout",
       "prompt_number": 12,
       "text": [
        "{'Institute': ['Chicago Polyclinic'],\n",
        " 'Institute Location': 'Chicago, IL',\n",
        " 'Person First Name': 'Maximilian',\n",
        " 'Person ID': 'mblhistory.person.000604',\n",
        " 'Person Last Name': 'Herzog',\n",
        " 'Persons Position at Institute': 'Professor of Pathology',\n",
        " 'Year': 1899}"
       ]
      }
     ],
     "prompt_number": 12
    },
    {
     "cell_type": "markdown",
     "metadata": {},
     "source": [
      "## Updated data"
     ]
    },
    {
     "cell_type": "code",
     "collapsed": false,
     "input": [
      "import xlrd"
     ],
     "language": "python",
     "metadata": {},
     "outputs": [],
     "prompt_number": 4
    },
    {
     "cell_type": "code",
     "collapsed": false,
     "input": [
      "filename = \"/Users/erickpeirson/MBL-course-data-visualizations/data/MBL COURSE LIST.xls\""
     ],
     "language": "python",
     "metadata": {},
     "outputs": [],
     "prompt_number": 5
    },
    {
     "cell_type": "code",
     "collapsed": false,
     "input": [
      "workbook = xlrd.open_workbook(filename, encoding_override='mac_roman')\n",
      "sheets = workbook.sheet_names()"
     ],
     "language": "python",
     "metadata": {},
     "outputs": [],
     "prompt_number": 6
    },
    {
     "cell_type": "code",
     "collapsed": false,
     "input": [
      "new_data = []\n",
      "for sname in sheets:\n",
      "    sheet = workbook.sheet_by_name(sname)\n",
      "    fields = sheet.row(0)\n",
      "    for r in xrange(1, sheet.nrows):\n",
      "        datum = {}\n",
      "        row = sheet.row(r)\n",
      "        for c in xrange(sheet.ncols):\n",
      "            field = fields[c].value.lower()\n",
      "            value = unidecode(row[c].value)\n",
      "            datum[field] = value\n",
      "        if datum['last name'] != '':\n",
      "            datum['date'] = int(sname)\n",
      "            new_data.append(datum)"
     ],
     "language": "python",
     "metadata": {},
     "outputs": [
      {
       "output_type": "stream",
       "stream": "stderr",
       "text": [
        "-c:10: RuntimeWarning: Argument <type 'str'> is not an unicode object. Passing an encoded string will likely have unexpected results.\n"
       ]
      }
     ],
     "prompt_number": 7
    },
    {
     "cell_type": "code",
     "collapsed": false,
     "input": [
      "new_data[0]"
     ],
     "language": "python",
     "metadata": {},
     "outputs": [
      {
       "output_type": "pyout",
       "prompt_number": 8,
       "text": [
        "{u'affiliation': 'Clark University',\n",
        " u'course name': 'Coelenterates',\n",
        " 'date': 1890,\n",
        " u'first name': 'J. Playfair',\n",
        " u'last name': 'McMurrich',\n",
        " u'location': '',\n",
        " u'notes': '',\n",
        " u'position at affiliation': 'Docent in Zooelogy',\n",
        " u'role': 'Instructor'}"
       ]
      }
     ],
     "prompt_number": 8
    },
    {
     "cell_type": "markdown",
     "metadata": {},
     "source": [
      "## Ratio of students:instructors over time for Embryology\n",
      "Visualization that shows instructor:student ratio over time, using Embryology as an example."
     ]
    },
    {
     "cell_type": "code",
     "collapsed": false,
     "input": [
      "import matplotlib.pyplot as plt"
     ],
     "language": "python",
     "metadata": {},
     "outputs": [],
     "prompt_number": 9
    },
    {
     "cell_type": "code",
     "collapsed": false,
     "input": [
      "embryology_instructors = { k:0 for k in xrange(1888,2000) }\n",
      "embryology_students = { k:0 for k in xrange(1888,2000) }\n",
      "for d in new_data:\n",
      "    if d['course name'] in ['Embryology','Embryology: A Modern Course in Developmental Biology' \\\n",
      "            and 1893 <= d['date'] <= 1996:\n",
      "        if d['role'].lower() in ['instructor', 'faculty/staff/lecturer', 'course director', \\\n",
      "                                'special lecturer', 'lecturer', 'junior instructor', \\\n",
      "                                'faculty/staff', 'instructor-in-chief', \\\n",
      "                                'research assistant', 'laboratory assistant' ]:\n",
      "            embryology_instructors[d['date']] += 1\n",
      "        if d['role'].lower() == 'student' or d['role'] == '':\n",
      "            embryology_students[d['date']] += 1"
     ],
     "language": "python",
     "metadata": {},
     "outputs": [],
     "prompt_number": 17
    },
    {
     "cell_type": "code",
     "collapsed": false,
     "input": [
      "figure_title = \"Student:instructor ratio for Embryology course at the Marine Biological Laboratory, 1894-1990.\"\n",
      "figure_caption = \"MBL course attendance data from http://hpsrepository.asu.edu/handle/10776/4199.\" \\\n",
      "                  + \" Bars show number of students and instructors for each year of the course.\" \n",
      "                  #+ \" Dashed line indicates the student:instructor ratio over time.\""
     ],
     "language": "python",
     "metadata": {},
     "outputs": [],
     "prompt_number": 18
    },
    {
     "cell_type": "code",
     "collapsed": false,
     "input": [
      "instructor_y = np.array([ float(embryology_instructors[i]) for i in xrange(1893, 2000) ])\n",
      "student_y = np.array([ float(embryology_students[i]) for i in xrange(1893, 2000) ])\n",
      "ratio = ( student_y / ( instructor_y + 1 ) ) + 1\n",
      "\n",
      "fig = plt.figure(figsize=(30,20))\n",
      "ax1 = plt.subplot(1, 1, 1)\n",
      "font = {'family' : 'georgia',\n",
      "        'weight' : 'bold',\n",
      "        'size'   : 16}\n",
      "\n",
      "matplotlib.rc('font', **font)\n",
      "\n",
      "ax1.bar( range(1893,2000), student_y, lw=1, color='g', alpha=0.4, label='Students')\n",
      "ax1.bar( range(1893,2000), instructor_y, bottom=student_y, lw=1, color='b', alpha=0.4, label='Instructors')\n",
      "\n",
      "ax1.text(1940, -4, figure_title, horizontalalignment='center', fontsize=20)\n",
      "ax1.text(1940, -8, figure_caption, horizontalalignment='center', fontsize=14, style='normal')\n",
      "\n",
      "plt.legend(loc=2)\n",
      "\n",
      "#ax2 = ax1.twinx()\n",
      "#ax2.set_yscale('log')\n",
      "#ax2.plot( range(1893,2000), ratio-1, 'k--', lw=6, alpha=0.6, label=\"Students : Instructors\", dashes=(20, 10))\n",
      "\n",
      "plt.xlim(1893,1996)\n",
      "plt.legend()\n",
      "         \n",
      "plt.show()"
     ],
     "language": "python",
     "metadata": {},
     "outputs": [
      {
       "output_type": "display_data",
       "png": "[encoded data removed]"
      }
     ],
     "prompt_number": 19
    },
    {
     "cell_type": "markdown",
     "metadata": {},
     "source": [
      "## Cast attendance, institutional affiliation to a MultiGraph"
     ]
    },
    {
     "cell_type": "code",
     "collapsed": false,
     "input": [
      "import networkx as nx"
     ],
     "language": "python",
     "metadata": {},
     "outputs": [],
     "prompt_number": 341
    },
    {
     "cell_type": "code",
     "collapsed": false,
     "input": [
      "G = nx.MultiGraph()"
     ],
     "language": "python",
     "metadata": {},
     "outputs": [],
     "prompt_number": 342
    },
    {
     "cell_type": "code",
     "collapsed": false,
     "input": [
      "for a in affiliations_data:\n",
      "    p_name = a['Person Last Name'] + ', ' + a['Person First Name']\n",
      "    G.add_node(p_name, type='person')\n",
      "\n",
      "    i_loc = a['Institute Location']    \n",
      "    for i_name in a['Institute']:\n",
      "        if a['Institute'] != '':\n",
      "            G.add_node(i_name, type='institution', location=i_loc)\n",
      "            G.add_edge(i_name, p_name, date=a['Year'], position=a['Persons Position at Institute'])"
     ],
     "language": "python",
     "metadata": {},
     "outputs": [],
     "prompt_number": 343
    },
    {
     "cell_type": "code",
     "collapsed": false,
     "input": [
      "for d in data:\n",
      "    p_name = d['Person Name']\n",
      "    for c in d['Notes: Courses']:\n",
      "        c_name = c['name']\n",
      "        G.add_node(c_name, type='course')\n",
      "        G.add_edge(p_name, c_name, role=c['role'], date=c['year'])"
     ],
     "language": "python",
     "metadata": {},
     "outputs": [],
     "prompt_number": 344
    },
    {
     "cell_type": "markdown",
     "metadata": {},
     "source": [
      "## Institutional links to MBL, 1888 - 1950\n",
      "Visualization that shows connection between MBL and other institutions, 1888-1950."
     ]
    },
    {
     "cell_type": "code",
     "collapsed": false,
     "input": [
      "subset = [ e for e in G.edges(data=True) if 1888 <= e[2]['date'] <= 1950 ]"
     ],
     "language": "python",
     "metadata": {},
     "outputs": [],
     "prompt_number": 423
    },
    {
     "cell_type": "code",
     "collapsed": false,
     "input": [
      "typeless = [ n for n in G.nodes(data=True) if 'type' not in n[1].keys() ]"
     ],
     "language": "python",
     "metadata": {},
     "outputs": [],
     "prompt_number": 424
    },
    {
     "cell_type": "code",
     "collapsed": false,
     "input": [
      "att_date_inst = {}\n",
      "for e in G.edges(data=True):\n",
      "    s_name = e[0]\n",
      "    s = G.node[s_name]\n",
      "    o_name = e[1]\n",
      "    o = G.node[o_name]\n",
      "    a = e[2]\n",
      "    date = a['date']\n",
      "    if date not in att_date_inst.keys():\n",
      "        att_date_inst[date] = {}\n",
      "    if 'type' in s.keys() and 'type' in o.keys():\n",
      "        if s['type'] == 'person' and o['type'] == 'institution':\n",
      "            try:\n",
      "                att_date_inst[date][o_name] += 1\n",
      "            except KeyError:\n",
      "                att_date_inst[date][o_name] = 1\n",
      "        elif s['type'] == 'institution' and o['type'] == 'person':\n",
      "            try:\n",
      "                att_date_inst[date][s_name] += 1\n",
      "            except KeyError:\n",
      "                att_date_inst[date][s_name] = 1"
     ],
     "language": "python",
     "metadata": {},
     "outputs": [],
     "prompt_number": 432
    },
    {
     "cell_type": "code",
     "collapsed": false,
     "input": [
      "import tethne.data as dt\n",
      "import tethne.writers as wr"
     ],
     "language": "python",
     "metadata": {},
     "outputs": [],
     "prompt_number": 434
    },
    {
     "cell_type": "code",
     "collapsed": false,
     "input": [
      "C = dt.GraphCollection()\n",
      "for date in att_date_inst.keys():\n",
      "    C[date] = nx.Graph()\n",
      "    for institution in att_date_inst[date].keys():\n",
      "        attendance = att_date_inst[date][institution]\n",
      "        C[date].add_edge('Marine Biological Laboratory', institution, attendance=attendance)\n",
      "        C[date].node[institution]['attendance'] = attendance"
     ],
     "language": "python",
     "metadata": {},
     "outputs": [],
     "prompt_number": 435
    },
    {
     "cell_type": "code",
     "collapsed": false,
     "input": [
      "wr.collection.to_dxgmml(C, '/Users/erickpeirson/Desktop/mbl_text.xgmml')"
     ],
     "language": "python",
     "metadata": {},
     "outputs": [],
     "prompt_number": 20
    },
    {
     "cell_type": "markdown",
     "metadata": {},
     "source": [
      "### Geocode institutional data"
     ]
    },
    {
     "cell_type": "code",
     "collapsed": false,
     "input": [
      "all_nodes = C.nodes()"
     ],
     "language": "python",
     "metadata": {},
     "outputs": [],
     "prompt_number": 436
    },
    {
     "cell_type": "code",
     "collapsed": false,
     "input": [
      "len(all_nodes)"
     ],
     "language": "python",
     "metadata": {},
     "outputs": [
      {
       "output_type": "pyout",
       "prompt_number": 437,
       "text": [
        "2591"
       ]
      }
     ],
     "prompt_number": 437
    },
    {
     "cell_type": "code",
     "collapsed": false,
     "input": [
      "with open(\"/Users/erickpeirson/Desktop/all_nodes.csv\", \"w\") as f:\n",
      "    for node in all_nodes:\n",
      "        f.write(node + \"\\n\")"
     ],
     "language": "python",
     "metadata": {},
     "outputs": [],
     "prompt_number": 438
    },
    {
     "cell_type": "code",
     "collapsed": false,
     "input": [
      "import time"
     ],
     "language": "python",
     "metadata": {},
     "outputs": [],
     "prompt_number": 440
    },
    {
     "cell_type": "code",
     "collapsed": false,
     "input": [
      "geodata = {}\n",
      "g = geocoders.GoogleV3()\n",
      "not_found = []\n",
      "time_out = []\n",
      "\n",
      "i = 0\n",
      "for n in all_nodes:\n",
      "    time.sleep(0.25)    # Rate-limited service.\n",
      "    if i % 100 == 0: \n",
      "        print i\n",
      "        print 'not found: ' + str(len(not_found))\n",
      "        print 'timeout: ' + str(len(time_out))\n",
      "    i += 1\n",
      "    try:\n",
      "        place, (lat, lng) = g.geocode(n)\n",
      "        geodata[n] = {}\n",
      "        geodata[n]['lat'] = lat\n",
      "        geodata[n]['lng'] = lng        \n",
      "    except TypeError:\n",
      "        not_found.append(n)\n",
      "    except:\n",
      "        time_out.append(n)"
     ],
     "language": "python",
     "metadata": {},
     "outputs": [
      {
       "output_type": "stream",
       "stream": "stdout",
       "text": [
        "0\n",
        "not found: 0\n",
        "timeout: 0\n",
        "100"
       ]
      },
      {
       "output_type": "stream",
       "stream": "stdout",
       "text": [
        "\n",
        "not found: 0\n",
        "timeout: 100\n",
        "200"
       ]
      },
      {
       "output_type": "stream",
       "stream": "stdout",
       "text": [
        "\n",
        "not found: 0\n",
        "timeout: 200\n",
        "300"
       ]
      },
      {
       "output_type": "stream",
       "stream": "stdout",
       "text": [
        "\n",
        "not found: 0\n",
        "timeout: 300\n",
        "400"
       ]
      },
      {
       "output_type": "stream",
       "stream": "stdout",
       "text": [
        "\n",
        "not found: 0\n",
        "timeout: 400\n",
        "500"
       ]
      },
      {
       "output_type": "stream",
       "stream": "stdout",
       "text": [
        "\n",
        "not found: 0\n",
        "timeout: 500\n",
        "600"
       ]
      },
      {
       "output_type": "stream",
       "stream": "stdout",
       "text": [
        "\n",
        "not found: 0\n",
        "timeout: 600\n",
        "700"
       ]
      },
      {
       "ename": "KeyboardInterrupt",
       "evalue": "",
       "output_type": "pyerr",
       "traceback": [
        "\u001b[0;31m---------------------------------------------------------------------------\u001b[0m\n\u001b[0;31mKeyboardInterrupt\u001b[0m                         Traceback (most recent call last)",
        "\u001b[0;32m<ipython-input-442-8b5c7d3407a8>\u001b[0m in \u001b[0;36m<module>\u001b[0;34m()\u001b[0m\n\u001b[1;32m      6\u001b[0m \u001b[0mi\u001b[0m \u001b[0;34m=\u001b[0m \u001b[0;36m0\u001b[0m\u001b[0;34m\u001b[0m\u001b[0m\n\u001b[1;32m      7\u001b[0m \u001b[0;32mfor\u001b[0m \u001b[0mn\u001b[0m \u001b[0;32min\u001b[0m \u001b[0mall_nodes\u001b[0m\u001b[0;34m:\u001b[0m\u001b[0;34m\u001b[0m\u001b[0m\n\u001b[0;32m----> 8\u001b[0;31m     \u001b[0mtime\u001b[0m\u001b[0;34m.\u001b[0m\u001b[0msleep\u001b[0m\u001b[0;34m(\u001b[0m\u001b[0;36m0.25\u001b[0m\u001b[0;34m)\u001b[0m\u001b[0;34m\u001b[0m\u001b[0m\n\u001b[0m\u001b[1;32m      9\u001b[0m     \u001b[0;32mif\u001b[0m \u001b[0mi\u001b[0m \u001b[0;34m%\u001b[0m \u001b[0;36m100\u001b[0m \u001b[0;34m==\u001b[0m \u001b[0;36m0\u001b[0m\u001b[0;34m:\u001b[0m\u001b[0;34m\u001b[0m\u001b[0m\n\u001b[1;32m     10\u001b[0m         \u001b[0;32mprint\u001b[0m \u001b[0mi\u001b[0m\u001b[0;34m\u001b[0m\u001b[0m\n",
        "\u001b[0;31mKeyboardInterrupt\u001b[0m: "
       ]
      },
      {
       "output_type": "stream",
       "stream": "stdout",
       "text": [
        "\n",
        "not found: 0\n",
        "timeout: 700\n"
       ]
      }
     ],
     "prompt_number": 442
    },
    {
     "cell_type": "code",
     "collapsed": false,
     "input": [],
     "language": "python",
     "metadata": {},
     "outputs": []
    }
   ],
   "metadata": {}
  }
 ]
}